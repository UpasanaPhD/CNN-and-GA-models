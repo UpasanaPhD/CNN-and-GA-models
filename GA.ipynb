{
  "metadata": {
    "kernelspec": {
      "language": "python",
      "display_name": "Python 3",
      "name": "python3"
    },
    "language_info": {
      "name": "python",
      "version": "3.7.12",
      "mimetype": "text/x-python",
      "codemirror_mode": {
        "name": "ipython",
        "version": 3
      },
      "pygments_lexer": "ipython3",
      "nbconvert_exporter": "python",
      "file_extension": ".py"
    },
    "colab": {
      "provenance": []
    }
  },
  "nbformat_minor": 0,
  "nbformat": 4,
  "cells": [
    {
      "cell_type": "code",
      "source": [
        "from sklearn.ensemble import RandomForestClassifier, AdaBoostClassifier\n",
        "from sklearn.model_selection import KFold, cross_val_score\n",
        "from sklearn.ensemble import GradientBoostingClassifier\n",
        "from sklearn.model_selection import train_test_split\n",
        "from sklearn.linear_model import LogisticRegression\n",
        "from sklearn.neighbors import KNeighborsClassifier\n",
        "from sklearn.metrics import classification_report\n",
        "from sklearn.tree import DecisionTreeClassifier\n",
        "from sklearn.metrics import confusion_matrix\n",
        "from sklearn.metrics import accuracy_score\n",
        "from keras.preprocessing import image\n",
        "import matplotlib.pyplot as plt\n",
        "from keras.models import Model\n",
        "from keras import applications\n",
        "from sklearn import metrics\n",
        "from random import randint\n",
        "import tensorflow as tf\n",
        "from sklearn import svm\n",
        "%matplotlib inline \n",
        "import warnings\n",
        "import seaborn as sns\n",
        "import itertools\n",
        "import pandas as pd\n",
        "import numpy as np\n",
        "\n",
        "\n",
        "\n"
      ],
      "metadata": {
        "trusted": true,
        "id": "Sc12Kuz_DUqJ"
      },
      "execution_count": null,
      "outputs": []
    },
    {
      "cell_type": "code",
      "source": [
        "\n",
        "\n",
        "\n",
        "def split(df,label):\n",
        "    X_train, X_test, Y_train, Y_test = train_test_split(df, label, test_size=0.25, random_state=42)\n",
        "    return X_train, X_test, Y_train, Y_test\n",
        "\n",
        "\n",
        "\n",
        "classifiers = [ 'SVM', \n",
        "                'RandomForest', \n",
        "               'DecisionTree', \n",
        "               'KNeighbors']\n",
        "\n",
        "models = [svm.SVC(kernel='linear'),\n",
        "          RandomForestClassifier(n_estimators=200, random_state=0),\n",
        "          DecisionTreeClassifier(random_state=0),\n",
        "          KNeighborsClassifier()]\n",
        "\n",
        "\n",
        "    \n"
      ],
      "metadata": {
        "execution": {
          "iopub.status.busy": "2023-04-12T11:59:22.380270Z",
          "iopub.execute_input": "2023-04-12T11:59:22.380747Z",
          "iopub.status.idle": "2023-04-12T11:59:22.390214Z",
          "shell.execute_reply.started": "2023-04-12T11:59:22.380711Z",
          "shell.execute_reply": "2023-04-12T11:59:22.388945Z"
        },
        "trusted": true,
        "id": "d35Xp0AYDUqi"
      },
      "execution_count": null,
      "outputs": []
    },
    {
      "cell_type": "code",
      "source": [
        "def initilization_of_population(size,n_feat):\n",
        "    population = []\n",
        "    for i in range(size):\n",
        "        chromosome = np.ones(n_feat,dtype=np.bool)     \n",
        "        chromosome[:int(0.3*n_feat)]=False             \n",
        "        np.random.shuffle(chromosome)\n",
        "        population.append(chromosome)\n",
        "    return population\n",
        "\n",
        "\n",
        "def fitness_score(population):\n",
        "    scores = []\n",
        "    for chromosome in population:\n",
        "        logmodel2.fit(X_train.iloc[:,chromosome],Y_train)         \n",
        "        predictions = logmodel2.predict(X_test.iloc[:,chromosome])\n",
        "        scores.append(accuracy_score(Y_test,predictions))\n",
        "    scores, population = np.array(scores), np.array(population) \n",
        "    inds = np.argsort(scores)                                    \n",
        "    return list(scores[inds][::-1]), list(population[inds,:][::-1]) \n",
        "\n",
        "\n",
        "def selection(pop_after_fit,n_parents):\n",
        "    population_nextgen = []\n",
        "    for i in range(n_parents):\n",
        "        population_nextgen.append(pop_after_fit[i])\n",
        "    return population_nextgen\n",
        "\n",
        "\n",
        "def crossover(pop_after_sel):\n",
        "    pop_nextgen = pop_after_sel\n",
        "    for i in range(0,len(pop_after_sel),2):\n",
        "        new_par = []\n",
        "        child_1 , child_2 = pop_nextgen[i] , pop_nextgen[i+1]\n",
        "        new_par = np.concatenate((child_1[:len(child_1)//2],child_2[len(child_1)//2:]))\n",
        "        pop_nextgen.append(new_par)\n",
        "    return pop_nextgen\n",
        "\n",
        "\n",
        "def mutation(pop_after_cross,mutation_rate,n_feat):   \n",
        "    mutation_range = int(mutation_rate*n_feat)\n",
        "    pop_next_gen = []\n",
        "    for n in range(0,len(pop_after_cross)):\n",
        "        chromo = pop_after_cross[n]\n",
        "        rand_posi = [] \n",
        "        for i in range(0,mutation_range):\n",
        "            pos = randint(0,n_feat-1)\n",
        "            rand_posi.append(pos)\n",
        "        for j in rand_posi:\n",
        "            chromo[j] = not chromo[j]  \n",
        "        pop_next_gen.append(chromo)\n",
        "    return pop_next_gen\n",
        "\n",
        "def generations(df,label,size,n_feat,n_parents,mutation_rate,n_gen,X_train,\n",
        "                                   X_test, Y_train, Y_test):\n",
        "    best_chromo= []\n",
        "    best_score= []\n",
        "    population_nextgen=initilization_of_population(size,n_feat)\n",
        "    for i in range(n_gen):\n",
        "        scores, pop_after_fit = fitness_score(population_nextgen)\n",
        "        print('Best score in generation',i+1,':',scores[:1])  #2\n",
        "        pop_after_sel = selection(pop_after_fit,n_parents)\n",
        "        pop_after_cross = crossover(pop_after_sel)\n",
        "        population_nextgen = mutation(pop_after_cross,mutation_rate,n_feat)\n",
        "        best_chromo.append(pop_after_fit[0])\n",
        "        best_score.append(scores[0])\n",
        "    return best_chromo,best_score\n",
        "\n",
        "  "
      ],
      "metadata": {
        "execution": {
          "iopub.status.busy": "2023-04-12T11:59:25.831701Z",
          "iopub.execute_input": "2023-04-12T11:59:25.832125Z",
          "iopub.status.idle": "2023-04-12T11:59:25.854772Z",
          "shell.execute_reply.started": "2023-04-12T11:59:25.832082Z",
          "shell.execute_reply": "2023-04-12T11:59:25.853337Z"
        },
        "trusted": true,
        "id": "Oy_encZ-DUql"
      },
      "execution_count": null,
      "outputs": []
    },
    {
      "cell_type": "code",
      "source": [
        "data_bc = pd.read_csv(\"/content/drive/MyDrive/Collapsed lung /features.csv\")\n",
        "label_bc = data_bc[\"class\"]\n",
        "data_bc.drop([\"id\", \"class\"],axis = 1,inplace = True)\n",
        "#500_features\n",
        "\n",
        "logmodel2 = RandomForestClassifier(n_estimators=200, random_state=0)\n",
        "X_train,X_test, Y_train, Y_test = split(data_bc,label_bc)\n",
        "chromo_df_bc,score_bc=generations(data_bc,label_bc,size=80,n_feat=data_bc.shape[1],n_parents=65,mutation_rate=0.20,n_gen=50,\n",
        "                         X_train = X_train,X_test = X_test,Y_train = Y_train,Y_test = Y_test)"
      ],
      "metadata": {
        "id": "KaCLmeiiNFjV"
      },
      "execution_count": null,
      "outputs": []
    },
    {
      "cell_type": "code",
      "source": [
        "Y_pred = logmodel2.predict(X_test)\n",
        "y_pred = np.argmax(Y_pred, axis=1)\n",
        "\n",
        "report = classification_report(test_set.classes, y_pred, output_dict=True)\n",
        "dff = pd.DataFrame(report).transpose()\n",
        "dff.to_excel(\"/content/drive/MyDrive/Collapsed lung /features.xlsx\")"
      ],
      "metadata": {
        "id": "ECu4I7Y9NFgY"
      },
      "execution_count": null,
      "outputs": []
    }
  ]
}
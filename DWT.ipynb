{
  "nbformat": 4,
  "nbformat_minor": 0,
  "metadata": {
    "colab": {
      "provenance": []
    },
    "kernelspec": {
      "name": "python3",
      "display_name": "Python 3"
    },
    "language_info": {
      "name": "python"
    }
  },
  "cells": [
    {
      "cell_type": "code",
      "execution_count": null,
      "metadata": {
        "id": "JZOLrdk0PYN0"
      },
      "outputs": [],
      "source": [
        "import os\n",
        "import cv2\n",
        "\n",
        "import numpy as np\n",
        "import numpy as np\n",
        "import pywt\n",
        "!pip install PyWavelets\n",
        "import pywt.data\n",
        "import pywt\n",
        "\n",
        "import matplotlib.image as mping\n",
        "import matplotlib.pyplot as plt\n",
        "\n",
        "\n",
        "for root, dirs, files in os.walk(\"D:\\\\NIH\\\\all in one\"):\n",
        "\n",
        "   for name in files:    \n",
        "       print (os.path.join(root, name)) \n",
        "       path = os.path.join(root, name)\n",
        "       img= cv2.imread(path, 0)\n",
        "       coeffs2 = pywt.dwt2(img, 'db3', mode = 'periodization')\n",
        "       cA, (cH, cV, cD) = coeffs2\n",
        "       imgr=pywt.idwt2(coeffs2, 'db3', mode = 'periodization')\n",
        "       imgr=np.uint8(imgr)\n",
        "\n",
        "       smoothed_image = img_as_ubyte(imgr)\n",
        "       cv2.imwrite(\"D:\\\\NIH\\\\WT\\\\\"+name, smoothed_image)\n"
      ]
    }
  ]
}
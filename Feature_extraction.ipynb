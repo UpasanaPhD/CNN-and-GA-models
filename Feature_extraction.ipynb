{
  "metadata": {
    "kernelspec": {
      "language": "python",
      "display_name": "Python 3",
      "name": "python3"
    },
    "language_info": {
      "name": "python",
      "version": "3.7.12",
      "mimetype": "text/x-python",
      "codemirror_mode": {
        "name": "ipython",
        "version": 3
      },
      "pygments_lexer": "ipython3",
      "nbconvert_exporter": "python",
      "file_extension": ".py"
    },
    "colab": {
      "provenance": []
    }
  },
  "nbformat_minor": 0,
  "nbformat": 4,
  "cells": [
    {
      "cell_type": "code",
      "source": [
        "\n",
        "from tensorflow.keras.layers import Dense,Conv2D, Flatten, Dropout, MaxPooling2D, GlobalAveragePooling2D\n",
        "from keras.layers import Dense,Flatten,Conv2D,Activation,Dropout\n",
        "from keras_preprocessing.image import ImageDataGenerator\n",
        "from torchvision.transforms import functional as F\n",
        "from sklearn.model_selection import train_test_split\n",
        "from tqdm import tqdm_notebook as tqdm\n",
        "from tensorflow.keras.optimizers import Adam\n",
        "import matplotlib.pyplot as plt\n",
        "from keras.layers.convolutional import Conv2D\n",
        "from keras.layers import Input\n",
        "from keras.models import Model\n",
        "from keras.layers.core import Dense\n",
        "from keras.layers import Input, Lambda, Dense, Flatten\n",
        "from tensorflow.keras import layers\n",
        "from sklearn.metrics import classification_report\n",
        "import tensorflow as tf\n",
        "from keras import backend as K\n",
        "import keras\n",
        "from itertools import chain\n",
        "from glob import glob\n",
        "import glob\n",
        "import random\n",
        "import pandas as pd\n",
        "import numpy as np\n",
        "import cv2\n",
        "import torch\n",
        "import torch.nn as nn\n",
        "import torchvision\n",
        "import os"
      ],
      "metadata": {
        "execution": {
          "iopub.status.busy": "2023-04-12T09:49:59.940423Z",
          "iopub.execute_input": "2023-04-12T09:49:59.941470Z",
          "iopub.status.idle": "2023-04-12T09:49:59.947798Z",
          "shell.execute_reply.started": "2023-04-12T09:49:59.941419Z",
          "shell.execute_reply": "2023-04-12T09:49:59.946858Z"
        },
        "trusted": true,
        "id": "3pPVwqwJ5Usz"
      },
      "execution_count": null,
      "outputs": []
    },
    {
      "cell_type": "code",
      "source": [
        "\n",
        "data = pd.read_csv('/content/drive/MyDrive/Collapsed lung /data.csv')\n"
      ],
      "metadata": {
        "id": "NZzQqqhiMaiT",
        "execution": {
          "iopub.status.busy": "2023-04-12T09:51:45.945199Z",
          "iopub.execute_input": "2023-04-12T09:51:45.945611Z",
          "iopub.status.idle": "2023-04-12T09:51:45.959582Z",
          "shell.execute_reply.started": "2023-04-12T09:51:45.945578Z",
          "shell.execute_reply": "2023-04-12T09:51:45.958675Z"
        },
        "trusted": true
      },
      "execution_count": null,
      "outputs": []
    },
    {
      "cell_type": "code",
      "source": [
        "batch_size = 16\n",
        "pet_ids = data['Image Index'].values\n",
        "n_batches = len(pet_ids) // batch_size + 1\n",
        "data = data[['Image Index', 'Finding Labels']]"
      ],
      "metadata": {
        "execution": {
          "iopub.status.busy": "2023-04-12T09:51:57.264332Z",
          "iopub.execute_input": "2023-04-12T09:51:57.264700Z",
          "iopub.status.idle": "2023-04-12T09:51:57.272019Z",
          "shell.execute_reply.started": "2023-04-12T09:51:57.264673Z",
          "shell.execute_reply": "2023-04-12T09:51:57.270979Z"
        },
        "trusted": true,
        "id": "NafQxcuW5Us2"
      },
      "execution_count": null,
      "outputs": []
    },
    {
      "cell_type": "code",
      "source": [
        "all_image_paths = {os.path.basename(x): x for x in\n",
        "                   glob(os.path.join('/content/drive/MyDrive/Collapsed lung /Images/CLAHE/*.png'))}\n",
        "data['Path'] = data['Image Index'].map(all_image_paths.get)\n",
        "\n",
        "all_image_paths2 = {os.path.basename(x): x for x in \n",
        "                   glob(os.path.join('/content/drive/MyDrive/Collapsed lung /Images/DWT/*.png'))}\n",
        "data['Path2'] = data['Image Index'].map(all_image_paths2.get)\n",
        "\n",
        "all_image_paths3 = {os.path.basename(x): x for x in \n",
        "                   glob(os.path.join('/content/drive/MyDrive/Collapsed lung /Images/GC/*.png'))}\n",
        "\n",
        "\n",
        "data['Path3'] = data['Image Index'].map(all_image_paths3.get)"
      ],
      "metadata": {
        "execution": {
          "iopub.status.busy": "2023-04-12T09:53:00.133467Z",
          "iopub.execute_input": "2023-04-12T09:53:00.133874Z",
          "iopub.status.idle": "2023-04-12T09:53:00.262580Z",
          "shell.execute_reply.started": "2023-04-12T09:53:00.133844Z",
          "shell.execute_reply": "2023-04-12T09:53:00.261430Z"
        },
        "trusted": true,
        "id": "B-wuxojW5Us2"
      },
      "execution_count": null,
      "outputs": []
    },
    {
      "cell_type": "code",
      "source": [
        "\n",
        "all_labels = np.unique(list(chain(*data['Finding Labels'].map(lambda x: x.split('|')).tolist())))\n",
        "all_labels = [x for x in all_labels]"
      ],
      "metadata": {
        "id": "1FmbKMJLMaiW",
        "execution": {
          "iopub.status.busy": "2023-04-12T09:53:04.040946Z",
          "iopub.execute_input": "2023-04-12T09:53:04.041382Z",
          "iopub.status.idle": "2023-04-12T09:53:04.057437Z",
          "shell.execute_reply.started": "2023-04-12T09:53:04.041314Z",
          "shell.execute_reply": "2023-04-12T09:53:04.056578Z"
        },
        "trusted": true
      },
      "execution_count": null,
      "outputs": []
    },
    {
      "cell_type": "code",
      "source": [
        "\n",
        "for label in all_labels:\n",
        "    if len(label)>1: \n",
        "        data[label] = data['Finding Labels'].map(lambda finding: 1 if label in finding else 0)\n",
        "        "
      ],
      "metadata": {
        "id": "lDDn0wxKMaiX",
        "execution": {
          "iopub.status.busy": "2023-04-12T09:53:05.494950Z",
          "iopub.execute_input": "2023-04-12T09:53:05.496139Z",
          "iopub.status.idle": "2023-04-12T09:53:05.517017Z",
          "shell.execute_reply.started": "2023-04-12T09:53:05.496092Z",
          "shell.execute_reply": "2023-04-12T09:53:05.515935Z"
        },
        "trusted": true
      },
      "execution_count": null,
      "outputs": []
    },
    {
      "cell_type": "code",
      "source": [
        "data = data.groupby('Finding Labels').filter(lambda x : len(x)>11)"
      ],
      "metadata": {
        "id": "f-_MigAMMaiY",
        "execution": {
          "iopub.status.busy": "2023-04-12T09:53:07.551821Z",
          "iopub.execute_input": "2023-04-12T09:53:07.553016Z",
          "iopub.status.idle": "2023-04-12T09:53:07.565592Z",
          "shell.execute_reply.started": "2023-04-12T09:53:07.552966Z",
          "shell.execute_reply": "2023-04-12T09:53:07.564505Z"
        },
        "trusted": true
      },
      "execution_count": null,
      "outputs": []
    },
    {
      "cell_type": "code",
      "source": [
        "\n",
        "\n",
        "train_and_valid_df, test_df = train_test_split(data,\n",
        "                                               test_size = 0.20,\n",
        "                                               random_state = 2023,\n",
        "                                              )\n",
        "\n",
        "train_df, valid_df = train_test_split(train_and_valid_df,\n",
        "                                      test_size=0.20,\n",
        "                                      random_state=2023,\n",
        "                                     )\n"
      ],
      "metadata": {
        "id": "lT8VcnSKMaiZ",
        "execution": {
          "iopub.status.busy": "2023-04-12T09:53:16.162007Z",
          "iopub.execute_input": "2023-04-12T09:53:16.162429Z",
          "iopub.status.idle": "2023-04-12T09:53:16.175831Z",
          "shell.execute_reply.started": "2023-04-12T09:53:16.162375Z",
          "shell.execute_reply": "2023-04-12T09:53:16.174742Z"
        },
        "trusted": true
      },
      "execution_count": null,
      "outputs": []
    },
    {
      "cell_type": "code",
      "source": [
        "\n",
        "base_generator = ImageDataGenerator(rescale=1./255)"
      ],
      "metadata": {
        "id": "gQEmLCotMaiZ",
        "execution": {
          "iopub.status.busy": "2023-04-12T09:53:35.443300Z",
          "iopub.execute_input": "2023-04-12T09:53:35.443713Z",
          "iopub.status.idle": "2023-04-12T09:53:35.448472Z",
          "shell.execute_reply.started": "2023-04-12T09:53:35.443681Z",
          "shell.execute_reply": "2023-04-12T09:53:35.447282Z"
        },
        "trusted": true
      },
      "execution_count": null,
      "outputs": []
    },
    {
      "cell_type": "code",
      "source": [
        "IMG_SIZE = (224, 224)\n",
        "def flow_from_dataframe(image_generator, dataframe, batch_size):\n",
        "\n",
        "    df_gen = image_generator.flow_from_dataframe(dataframe,\n",
        "                                                 x_col='Path',\n",
        "                                                 y_col=all_labels,\n",
        "                                                 target_size=IMG_SIZE,\n",
        "                                                 classes=all_labels,\n",
        "                                                 color_mode='rgb',\n",
        "                                                 class_mode='raw',\n",
        "                                                 shuffle=False,\n",
        "                                                 batch_size=batch_size)\n",
        "    \n",
        "    return df_gen"
      ],
      "metadata": {
        "id": "L0uyH49FMaiZ",
        "execution": {
          "iopub.status.busy": "2023-04-12T09:53:37.132547Z",
          "iopub.execute_input": "2023-04-12T09:53:37.133225Z",
          "iopub.status.idle": "2023-04-12T09:53:37.138791Z",
          "shell.execute_reply.started": "2023-04-12T09:53:37.133191Z",
          "shell.execute_reply": "2023-04-12T09:53:37.137612Z"
        },
        "trusted": true
      },
      "execution_count": null,
      "outputs": []
    },
    {
      "cell_type": "code",
      "source": [
        "train_gen = flow_from_dataframe(image_generator=base_generator, \n",
        "                                dataframe= train_df,\n",
        "                                batch_size = 32)\n",
        "\n",
        "valid_gen = flow_from_dataframe(image_generator=base_generator, \n",
        "                                dataframe=valid_df,\n",
        "                                batch_size = 32)\n",
        "\n",
        "test_gen = flow_from_dataframe(image_generator=base_generator, \n",
        "                               dataframe=test_df,\n",
        "                               batch_size = 32)"
      ],
      "metadata": {
        "id": "k8vjo9JLMaia",
        "execution": {
          "iopub.status.busy": "2023-04-12T09:53:39.409326Z",
          "iopub.execute_input": "2023-04-12T09:53:39.410352Z",
          "iopub.status.idle": "2023-04-12T09:53:56.612744Z",
          "shell.execute_reply.started": "2023-04-12T09:53:39.410297Z",
          "shell.execute_reply": "2023-04-12T09:53:56.611674Z"
        },
        "trusted": true
      },
      "execution_count": 1,
      "outputs": []
    },
    {
      "cell_type": "code",
      "source": [
        "train_x, train_y = next(train_gen)\n",
        "\n",
        "valid_x, valid_y = next(valid_gen)\n",
        "\n",
        "test_x, test_y = next(test_gen)"
      ],
      "metadata": {
        "id": "ZniN4GROMaia",
        "execution": {
          "iopub.status.busy": "2023-04-12T09:17:08.874478Z",
          "iopub.execute_input": "2023-04-12T09:17:08.875514Z",
          "iopub.status.idle": "2023-04-12T09:17:09.831264Z",
          "shell.execute_reply.started": "2023-04-12T09:17:08.875476Z",
          "shell.execute_reply": "2023-04-12T09:17:09.830258Z"
        },
        "trusted": true
      },
      "execution_count": null,
      "outputs": []
    },
    {
      "cell_type": "code",
      "source": [
        "IMG_SIZE = (224, 224)\n",
        "def flow_from_dataframe(image_generator1, dataframe, batch_size):\n",
        "\n",
        "    df_gen1= image_generator1.flow_from_dataframe(dataframe,\n",
        "                                                 x_col='Path2',\n",
        "                                                 y_col=all_labels,\n",
        "                                                 target_size=IMG_SIZE,\n",
        "                                                 classes=all_labels,\n",
        "                                                 color_mode='rgb',\n",
        "                                                 class_mode='raw',\n",
        "                                                 shuffle=False,\n",
        "                                                 batch_size=batch_size)\n",
        "    \n",
        "    return df_gen1"
      ],
      "metadata": {
        "execution": {
          "iopub.status.busy": "2023-04-12T09:17:30.122529Z",
          "iopub.execute_input": "2023-04-12T09:17:30.123749Z",
          "iopub.status.idle": "2023-04-12T09:17:30.130079Z",
          "shell.execute_reply.started": "2023-04-12T09:17:30.123695Z",
          "shell.execute_reply": "2023-04-12T09:17:30.129247Z"
        },
        "trusted": true,
        "id": "hehflQA75Us5"
      },
      "execution_count": null,
      "outputs": []
    },
    {
      "cell_type": "code",
      "source": [
        "train_gen2 = flow_from_dataframe(image_generator1=base_generator, \n",
        "                                dataframe= train_df,\n",
        "                                batch_size = 32)\n",
        "\n",
        "valid_gen2 = flow_from_dataframe(image_generator1=base_generator, \n",
        "                                dataframe=valid_df,\n",
        "                                batch_size = 32)\n",
        "\n",
        "test_gen2 = flow_from_dataframe(image_generator1=base_generator, \n",
        "                               dataframe=test_df,\n",
        "                               batch_size = 32)"
      ],
      "metadata": {
        "execution": {
          "iopub.status.busy": "2023-04-12T09:17:34.867380Z",
          "iopub.execute_input": "2023-04-12T09:17:34.867762Z",
          "iopub.status.idle": "2023-04-12T09:17:49.278444Z",
          "shell.execute_reply.started": "2023-04-12T09:17:34.867732Z",
          "shell.execute_reply": "2023-04-12T09:17:49.276408Z"
        },
        "trusted": true,
        "id": "AK1YGYxl5Us5"
      },
      "execution_count": 2,
      "outputs": []
    },
    {
      "cell_type": "code",
      "source": [
        "train_x2, train_y2 = next(train_gen2)\n",
        "valid_x2, valid_y2 = next(valid_gen2)\n",
        "test_x2, test_y2 = next(test_gen2)"
      ],
      "metadata": {
        "execution": {
          "iopub.status.busy": "2023-04-12T09:18:09.419598Z",
          "iopub.execute_input": "2023-04-12T09:18:09.420028Z",
          "iopub.status.idle": "2023-04-12T09:18:10.392388Z",
          "shell.execute_reply.started": "2023-04-12T09:18:09.419994Z",
          "shell.execute_reply": "2023-04-12T09:18:10.391537Z"
        },
        "trusted": true,
        "id": "-rtQjsdF5Us5"
      },
      "execution_count": null,
      "outputs": []
    },
    {
      "cell_type": "code",
      "source": [
        "\n",
        "def flow_from_dataframe(image_generator2, dataframe, batch_size):\n",
        "\n",
        "    df_gen2= image_generator2.flow_from_dataframe(dataframe,\n",
        "                                                 x_col='Path3',\n",
        "                                                 y_col=all_labels,\n",
        "                                                 target_size=IMG_SIZE,\n",
        "                                                 classes=all_labels,\n",
        "                                                 color_mode='rgb',\n",
        "                                                 class_mode='raw',\n",
        "                                                 shuffle=False,\n",
        "                                                 batch_size=batch_size)\n",
        "    \n",
        "    return df_gen2"
      ],
      "metadata": {
        "execution": {
          "iopub.status.busy": "2023-04-12T09:18:36.972146Z",
          "iopub.execute_input": "2023-04-12T09:18:36.973084Z",
          "iopub.status.idle": "2023-04-12T09:18:36.979197Z",
          "shell.execute_reply.started": "2023-04-12T09:18:36.973041Z",
          "shell.execute_reply": "2023-04-12T09:18:36.978248Z"
        },
        "trusted": true,
        "id": "V5dH8Jn05Us6"
      },
      "execution_count": null,
      "outputs": []
    },
    {
      "cell_type": "code",
      "source": [
        "train_gen3 = flow_from_dataframe(image_generator2=base_generator, \n",
        "                                dataframe= train_df,\n",
        "                                batch_size = 32)\n",
        "\n",
        "valid_gen3 = flow_from_dataframe(image_generator2=base_generator, \n",
        "                                dataframe=valid_df,\n",
        "                                batch_size = 32)\n",
        "\n",
        "test_gen3 = flow_from_dataframe(image_generator2=base_generator, \n",
        "                               dataframe=test_df,\n",
        "                               batch_size = 32)"
      ],
      "metadata": {
        "execution": {
          "iopub.status.busy": "2023-04-12T09:18:46.845734Z",
          "iopub.execute_input": "2023-04-12T09:18:46.846804Z",
          "iopub.status.idle": "2023-04-12T09:19:02.827721Z",
          "shell.execute_reply.started": "2023-04-12T09:18:46.846754Z",
          "shell.execute_reply": "2023-04-12T09:19:02.826954Z"
        },
        "trusted": true,
        "id": "BR37qk_O5Us6"
      },
      "execution_count": 3,
      "outputs": []
    },
    {
      "cell_type": "code",
      "source": [
        "train_x3, train_y3 = next(train_gen3)\n",
        "valid_x3, valid_y3 = next(valid_gen3)\n",
        "test_x3, test_y3 = next(test_gen3)"
      ],
      "metadata": {
        "execution": {
          "iopub.status.busy": "2023-04-12T09:39:10.383824Z",
          "iopub.execute_input": "2023-04-12T09:39:10.384261Z",
          "iopub.status.idle": "2023-04-12T09:39:11.478691Z",
          "shell.execute_reply.started": "2023-04-12T09:39:10.384225Z",
          "shell.execute_reply": "2023-04-12T09:39:11.477609Z"
        },
        "trusted": true,
        "id": "g9DJeokw5Us6"
      },
      "execution_count": null,
      "outputs": []
    },
    {
      "cell_type": "code",
      "source": [
        "csv_logger = tf.keras.callbacks.CSVLogger('/content/drive/MyDrive/Collapsed lung /csv logger/train.csv', append=True)\n",
        "\n",
        "input_shape=(224, 224, 3)\n",
        "img_input = Input(shape=input_shape, name = 'm1')\n",
        "\n",
        "\n",
        "a= Conv2D(32, (3,3), activation=\"relu\", padding= 'same', name = 'Input_layer1')(img_input)\n",
        "a = Model(img_input, outputs=a)\n",
        "img_input2 = Input(shape=input_shape, name = 'm2')\n",
        "b= Conv2D(32, (3,3), activation=\"relu\", padding= 'same', name = 'Input_layer2')(img_input2)\n",
        "b = Model(img_input2, outputs=b)\n",
        "img_input3 = Input(shape=input_shape, name = 'm3')\n",
        "c= Conv2D(32, (3,3), activation=\"relu\", padding= 'same', name = 'Input_layer3')(img_input3)\n",
        "c = Model(img_input3, outputs=c)\n",
        "combined = keras.layers.concatenate([a.output, b.output, c.output], name = 'Combined_layer')\n",
        "X2 = Conv2D(filters=96, kernel_size=(3,3), padding='valid', activation='relu', name='Layer4')(combined)\n",
        "y = tf.keras.layers.MaxPool2D(pool_size=(4,4),strides=(4,4))(X2)\n",
        "p = Flatten()(y)\n",
        "p = Dense(500, name='Layer5')(p)\n",
        "p = Dense(3, name='Layer6')(p)\n",
        "model = Model(inputs=[a.input,b.input,c.input], outputs=p)"
      ],
      "metadata": {
        "execution": {
          "iopub.status.busy": "2023-04-12T09:42:09.489315Z",
          "iopub.execute_input": "2023-04-12T09:42:09.489730Z",
          "iopub.status.idle": "2023-04-12T09:42:10.418747Z",
          "shell.execute_reply.started": "2023-04-12T09:42:09.489695Z",
          "shell.execute_reply": "2023-04-12T09:42:10.417862Z"
        },
        "trusted": true,
        "id": "8FZrG13c5Us6"
      },
      "execution_count": null,
      "outputs": []
    },
    {
      "cell_type": "code",
      "source": [
        "\n",
        "initial_learning_rate=1e-3\n",
        "optimizer = Adam(lr=initial_learning_rate)\n",
        "model.compile(optimizer=optimizer, loss=\"categorical_crossentropy\", metrics=[\"accuracy\"])\n",
        "epochs=50\n",
        "fit_history = model.fit([train_x, train_x2, train_x3], train_y,\n",
        "      steps_per_epoch=100,\n",
        "      epochs=epochs,\n",
        "      validation_data=([valid_x, valid_x2, valid_x3], valid_y),\n",
        "      validation_steps=50\n",
        ")"
      ],
      "metadata": {
        "execution": {
          "iopub.status.busy": "2023-04-12T09:42:58.794929Z",
          "iopub.execute_input": "2023-04-12T09:42:58.795567Z",
          "iopub.status.idle": "2023-04-12T09:42:58.800211Z",
          "shell.execute_reply.started": "2023-04-12T09:42:58.795522Z",
          "shell.execute_reply": "2023-04-12T09:42:58.799460Z"
        },
        "trusted": true,
        "id": "Vp6j1-i05Us7"
      },
      "execution_count": null,
      "outputs": []
    },
    {
      "cell_type": "code",
      "source": [
        "feature_extractor = keras.Model(\n",
        "   inputs=model.inputs,\n",
        "   outputs=model.get_layer(name=\"Layer5\").output,\n",
        ")\n",
        "\n",
        "feature_extractor2=feature_extractor.predict([train_x, train_x2, train_x3])\n",
        "\n",
        "features = feature_extractor2.reshape(feature_extractor2.shape[0], -1)"
      ],
      "metadata": {
        "id": "jsdBiKt85Us7"
      },
      "execution_count": null,
      "outputs": []
    },
    {
      "cell_type": "code",
      "source": [
        "\n",
        "df = pd.DataFrame(features)    \n",
        "df.to_csv('/kaggle/working/500_features.csv')"
      ],
      "metadata": {
        "id": "Wwvqt6gm5Us7"
      },
      "execution_count": null,
      "outputs": []
    },
    {
      "cell_type": "code",
      "source": [],
      "metadata": {
        "id": "zVMdPFJm5Us7"
      },
      "execution_count": null,
      "outputs": []
    },
    {
      "cell_type": "code",
      "source": [],
      "metadata": {
        "id": "9WaXI5GJ5Us7"
      },
      "execution_count": null,
      "outputs": []
    }
  ]
}
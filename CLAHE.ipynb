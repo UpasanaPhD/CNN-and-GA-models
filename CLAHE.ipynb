{
  "nbformat": 4,
  "nbformat_minor": 0,
  "metadata": {
    "colab": {
      "provenance": []
    },
    "kernelspec": {
      "name": "python3",
      "display_name": "Python 3"
    },
    "language_info": {
      "name": "python"
    }
  },
  "cells": [
    {
      "cell_type": "code",
      "execution_count": null,
      "metadata": {
        "id": "fMVWZy0vOu14"
      },
      "outputs": [],
      "source": [
        "\n",
        "from skimage.filters import gaussian\n",
        "from skimage import img_as_ubyte\n",
        "import os\n",
        "import cv2\n",
        "\n",
        "\n",
        "for root, dirs, files in os.walk(\"D:\\\\NIH\\\\all in one\"):\n",
        "\n",
        "   for name in files:    \n",
        "       print (os.path.join(root, name)) \n",
        "       path = os.path.join(root, name)\n",
        "       img= cv2.imread(path, 0)  \n",
        "       equ = cv2.createCLAHE(clipLimit=3.0, tileGridSize=(8,8))\n",
        "       clahe_img = equ.apply(img)     \n",
        "       smoothed_image = img_as_ubyte(clahe_img)\n",
        "       cv2.imwrite(\"D:\\\\NIH\\\\CLAHE\\\\ \"+name+\".png\", smoothed_image)"
      ]
    }
  ]
}
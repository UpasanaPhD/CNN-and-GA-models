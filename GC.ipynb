{
  "nbformat": 4,
  "nbformat_minor": 0,
  "metadata": {
    "colab": {
      "provenance": []
    },
    "kernelspec": {
      "name": "python3",
      "display_name": "Python 3"
    },
    "language_info": {
      "name": "python"
    }
  },
  "cells": [
    {
      "cell_type": "code",
      "execution_count": null,
      "metadata": {
        "id": "HCDD3R4XMbxI"
      },
      "outputs": [],
      "source": [
        "from skimage.filters import gaussian\n",
        "from skimage import img_as_ubyte\n",
        "import numpy as np\n",
        "import os\n",
        "import cv2\n",
        "\n",
        "\n",
        "\n",
        "for root, dirs, files in os.walk('D:\\\\NIH\\\\all in one'):\n",
        "   for name in files:    \n",
        "       print (os.path.join(root, name))  \n",
        "       path = os.path.join(root, name)\n",
        "       img= cv2.imread(path, 0) \n",
        "\n",
        "\n",
        "       gamma = 2\n",
        "       gamma_correction = np.power(img, gamma)\n",
        "       smoothed_image = img_as_ubyte(gamma_correction)\n",
        "       cv2.imwrite('D:\\\\NIH\\NIH\\\\Gamma Correction\\\\ '+name, smoothed_image)\n"
      ]
    }
  ]
}
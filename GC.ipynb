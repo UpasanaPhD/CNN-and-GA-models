{
 "cells": [
  {
   "cell_type": "code",
   "execution_count": null,
   "id": "d13b97aa",
   "metadata": {},
   "outputs": [],
   "source": [
    "from skimage.filters import gaussian\n",
    "from scipy.ndimage import gaussian_filter\n",
    "from skimage import img_as_ubyte\n",
    "import numpy as np\n",
    "import os\n",
    "import cv2\n",
    "\n",
    "\n",
    "\n",
    "for root, dirs, files in os.walk('D:\\NIH\\all in one'):\n",
    "   for name in files:    \n",
    "       print (os.path.join(root, name))  \n",
    "       path = os.path.join(root, name)\n",
    "       img= cv2.imread(path, 0) \n",
    "\n",
    "\n",
    "       gamma = 0.5\n",
    "\n",
    "# perform gamma correction\n",
    "       img_corrected = np.power(img / 255.0, gamma)\n",
    "       img_corrected = np.uint8(img_corrected * 255)\n",
    "       cv2.imwrite('D:\\NIH\\GC\\ '+name+\".png\", img_corrected)"
   ]
  }
 ],
 "metadata": {
  "kernelspec": {
   "display_name": "Python 3",
   "language": "python",
   "name": "python3"
  },
  "language_info": {
   "codemirror_mode": {
    "name": "ipython",
    "version": 3
   },
   "file_extension": ".py",
   "mimetype": "text/x-python",
   "name": "python",
   "nbconvert_exporter": "python",
   "pygments_lexer": "ipython3",
   "version": "3.8.8"
  }
 },
 "nbformat": 4,
 "nbformat_minor": 5
}
